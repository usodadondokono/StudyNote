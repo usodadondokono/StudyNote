{
 "cells": [
  {
   "cell_type": "code",
   "execution_count": 1,
   "metadata": {
    "collapsed": false
   },
   "outputs": [
    {
     "ename": "SyntaxError",
     "evalue": "invalid syntax (<ipython-input-1-488af1ab583e>, line 1)",
     "output_type": "error",
     "traceback": [
      "\u001b[0;36m  File \u001b[0;32m\"<ipython-input-1-488af1ab583e>\"\u001b[0;36m, line \u001b[0;32m1\u001b[0m\n\u001b[0;31m    $ bitcoin-cli -regtest getinfo\u001b[0m\n\u001b[0m    ^\u001b[0m\n\u001b[0;31mSyntaxError\u001b[0m\u001b[0;31m:\u001b[0m invalid syntax\n"
     ]
    }
   ],
   "source": [
    "$ bitcoin-cli -regtest getinfo\n",
    "{\n",
    "    \"version\" : 90500,\n",
    "    \"protocolversion\" : 70002,\n",
    "    \"walletversion\" : 60000,\n",
    "    \"balance\" : 100.00000000,\n",
    "    \"blocks\" : 102,\n",
    "    \"timeoffset\" : 0,\n",
    "    \"connections\" : 0,\n",
    "    \"proxy\" : \"\",\n",
    "    \"difficulty\" : 0.00000000,\n",
    "    \"testnet\" : false,\n",
    "    \"keypoololdest\" : 1453708105,\n",
    "    \"keypoolsize\" : 101,\n",
    "    \"unlocked_until\" : 0,\n",
    "    \"paytxfee\" : 0.00000000,\n",
    "    \"relayfee\" : 0.00001000,\n",
    "    \"errors\" : \"\"\n",
    "}"
   ]
  },
  {
   "cell_type": "code",
   "execution_count": null,
   "metadata": {
    "collapsed": true
   },
   "outputs": [],
   "source": [
    "$ bitcoin-cli  -regtest getnewaddress\n",
    "myB4gmaNWybsobgAE3MJs2wwUVx5jhcsAN"
   ]
  },
  {
   "cell_type": "code",
   "execution_count": null,
   "metadata": {
    "collapsed": true
   },
   "outputs": [],
   "source": [
    "$ bitcoin-cli -regtest getreceivedbyaddress myB4gmaNWybsobgAE3MJs2wwUVx5jhcsAN\n",
    "0.00000000"
   ]
  },
  {
   "cell_type": "code",
   "execution_count": null,
   "metadata": {
    "collapsed": true
   },
   "outputs": [],
   "source": [
    "$ bitcoin-cli -regtest encryptwallet hoge\n",
    "wallet encrypted; Bitcoin server stopping, restart to run with encrypted wallet.\n",
    "The keypool has been flushed, you need to make a new backup."
   ]
  },
  {
   "cell_type": "code",
   "execution_count": null,
   "metadata": {
    "collapsed": true
   },
   "outputs": [],
   "source": [
    "$ bitcoin-cli -regtest walletpassphrase hoge 360"
   ]
  },
  {
   "cell_type": "code",
   "execution_count": null,
   "metadata": {
    "collapsed": true
   },
   "outputs": [],
   "source": [
    "$ bitcoin-cli -regtest getinfo\n",
    "{\n",
    "    \"version\" : 90500,\n",
    "    \"protocolversion\" : 70002,\n",
    "    \"walletversion\" : 60000,\n",
    "    \"balance\" : 100.00000000,\n",
    "    \"blocks\" : 102,\n",
    "    \"timeoffset\" : 0,\n",
    "    \"connections\" : 0,\n",
    "    \"proxy\" : \"\",\n",
    "    \"difficulty\" : 0.00000000,\n",
    "    \"testnet\" : false,\n",
    "    \"keypoololdest\" : 1453708105,\n",
    "    \"keypoolsize\" : 101,\n",
    "    \"unlocked_until\" : 1454630334,\n",
    "    \"paytxfee\" : 0.00000000,\n",
    "    \"relayfee\" : 0.00001000,\n",
    "    \"errors\" : \"\"\n",
    "}\n"
   ]
  },
  {
   "cell_type": "code",
   "execution_count": null,
   "metadata": {
    "collapsed": true
   },
   "outputs": [],
   "source": [
    "$ more wallet.txt\n",
    "# Wallet dump created by Bitcoin v0.9.5-beta (2015-05-21 10:48:26 +0200)\n",
    "# * Created on 2016-02-04T23:56:33Z\n",
    "# * Best block at time of backup was 102 (0000e3396878fb638dde3cb8242ad33fc6b7e7fe996d1f9fc970ec94f22c41b2),\n",
    "#   mined on 2016-01-25T06:12:08Z\n",
    "\n",
    "cNiQ5pH1MCq3DBTBKZLCxqk9NeSn13daDgcXuC1kQavJyq5gXRFA 2016-01-25T05:44:46Z change=1 # addr=mkAXCCnrSCYWcwYGTM9Fjr6NemNH64xt7r\n",
    "cNtKysCPjvu6HY4CfosbdahjS1nkj74Fr3nFX3rDXxNXbNZYiKwZ 2016-01-25T05:44:46Z change=1 # addr=mzGB5vpcp68qkcdXBmWQFvjvBPDGKvsoSe\n",
    "cT8pWfeT7r5x2iwzHRhay6KyseXdkGyJYDQCdsj6EvNZz8ZnKByN 2016-01-25T05:44:46Z change=1 # addr=n4pP3YhAw2p9v4nH5nh74XXzMCkvC1uw3o\n",
    "cMhpWgwXNU9dWpeztLXHx3LQPYHND8Vk3HQCZy8ZAHGLzeWqLnsN 2016-01-25T05:44:46Z label= # addr=mgH9Ne6tsxTSXyswNehydTbzvJdJVqs2mv\n",
    "cVFYJXsr2WqShPyztQ478oUkQHyWUYNXYsTJuac6FhQ8MLMZpcAJ 2016-01-25T05:44:46Z change=1 # addr=mwHzgu8JnsdmU3jU7xDaLStzkKHR1jg9Cp\n",
    "cRs6khebsSBq5hvg7K363Ku7ZtjJPnQTPJbj7qfrkFZpPNyPiTU5 2016-01-25T05:44:46Z change=1 # addr=miFLjgtnJMF2vYoZFfvt9FoLcHEG1D9hQM\n",
    "cVvBKYVhYhnR38WVX7hy915g2utt7WB6Q233JP9Qgoomj5zxRZjn 2016-01-25T05:44:46Z change=1 # addr=mqHoMjLRCx2RQNj7gy8BoFDk9YAp8icNaf\n",
    "cNYsXAdZ94YMzTteQU85g6YPmA8bQaDxeW5TkFsixLyKDjcfQpKs 2016-01-25T05:44:46Z change=1 # addr=mtUxWAb9jaVjiMLKbGFjkzjgWCSUNkChKL\n",
    "cQqS9k3u5whvBW341tY3MvWCZwZbnSgim1HuWHZTJEVabZpFaGNZ 2016-01-25T05:44:47Z change=1 # addr=mmXsgxoQ27PssVEwzifoD4LQFEXkvDPzBw\n",
    "cNuGD7Zp4befTA6Ua9ymnSJjSoy7KCHfiGSFBBmto2XDssRSU14D 2016-01-25T05:44:47Z change=1 # addr=mrwECDQoGJmJmNHsQab9L4frVtxX7JxnA4\n",
    "cVqoHE6uovUcs3hc7VFL5qsLQKgJYCkUsagz8BjgaKRsWr8rDtvm 2016-01-25T05:44:47Z change=1 # addr=mtoH3rMm3oZHFuDJ2bB4ijVJZCG8pMKuPo\n",
    "cShmYrioK61nZWUenoU7KH6hue8ibi8VNZLtz621qxzJ4vkg28dV 2016-01-25T05:44:47Z change=1 # addr=mwdUg8tprNNxrTGpxuKNCbrVZ6QDDPVm4M\n",
    "cVSEuS4Y1zhtFnGXUKwELB8jq3y3CRfVhE5yBitrD9MLbM3L6cxz 2016-01-25T05:44:47Z change=1 # addr=msDFxKECDR7u5suhbQt7Mqy9uQ39GSqoSL"
   ]
  },
  {
   "cell_type": "code",
   "execution_count": null,
   "metadata": {
    "collapsed": true
   },
   "outputs": [],
   "source": [
    "$ bitcoin-cli -regtest getaddressesbyaccount \"\"\n",
    "[\n",
    "    \"mm3LowreK1dFta9io3oGpQtLJfBrVE7jB8\",\n",
    "    \"myB4gmaNWybsobgAE3MJs2wwUVx5jhcsAN\",\n",
    "    \"mzV7kFaKr4x2ocKJd24ZuFeiNLtThsh2ft\",\n",
    "    \"n2icdqcWckasLFKMRtuSdwu2MXi8RMoW8L\",\n",
    "    \"mgH9Ne6tsxTSXyswNehydTbzvJdJVqs2mv\"\n",
    "]"
   ]
  },
  {
   "cell_type": "code",
   "execution_count": null,
   "metadata": {
    "collapsed": true
   },
   "outputs": [],
   "source": [
    "$ bitcoin-cli -regtest gettransaction e9f2c73989edf23fbb90afc5e50288c19debfd3ace5f076e8179ff7071e4a61f\n",
    "{\n",
    "    \"amount\" : 0.00000000,\n",
    "    \"fee\" : 0.00000000,\n",
    "    \"confirmations\" : 1,\n",
    "    \"blockhash\" : \"0000e3396878fb638dde3cb8242ad33fc6b7e7fe996d1f9fc970ec94f22c41b2\",\n",
    "    \"blockindex\" : 1,\n",
    "    \"blocktime\" : 1453702328,\n",
    "    \"txid\" : \"e9f2c73989edf23fbb90afc5e50288c19debfd3ace5f076e8179ff7071e4a61f\",\n",
    "    \"walletconflicts\" : [\n",
    "    ],\n",
    "    \"time\" : 1453702230,\n",
    "    \"timereceived\" : 1453702230,\n",
    "    \"details\" : [\n",
    "        {\n",
    "            \"account\" : \"\",\n",
    "            \"address\" : \"mm3LowreK1dFta9io3oGpQtLJfBrVE7jB8\",\n",
    "            \"category\" : \"send\",\n",
    "            \"amount\" : -10.00000000,\n",
    "            \"fee\" : 0.00000000\n",
    "        },\n",
    "        {\n",
    "            \"account\" : \"\",\n",
    "            \"address\" : \"mm3LowreK1dFta9io3oGpQtLJfBrVE7jB8\",\n",
    "            \"category\" : \"receive\",\n",
    "            \"amount\" : 10.00000000\n",
    "        }\n",
    "    ]\n",
    "}"
   ]
  },
  {
   "cell_type": "code",
   "execution_count": null,
   "metadata": {
    "collapsed": true
   },
   "outputs": [],
   "source": [
    "$ bitcoin-cli -regtest getrawtransaction e9f2c73989edf23fbb90afc5e50288c19debfd3ace5f076e8179ff7071e4a61f\n",
    "01000000012e67a622128278c1d045d28afe172f3e9d7d7cbe8fc1e34b8a3a8231b1a0bcca000000004847304402203aa364f2ef5cd4579430726559e98174b212fcc99086c553fd4fdd8ff8d0e30502207965dbb38e7d8a2ed18cf159cbc4e952f4a993e8e18f0ccb29da3e1be042e36401ffffffff0200ca9a3b000000001976a9143c97e71596a3f70eb90b95be3686ce807adc915088ac00286bee000000001976a914878e2432c4b94866e95237e8267d0b49c32b83ee88ac00000000"
   ]
  },
  {
   "cell_type": "code",
   "execution_count": null,
   "metadata": {
    "collapsed": true
   },
   "outputs": [],
   "source": [
    "$ bitcoin-cli -regtest decoderawtransaction 01000000012e67a622128278c1d045d28afe172f3e9d7d7cbe8fc1e34b8a3a8231b1a0bcca000000004847304402203aa364f2ef5cd4579430726559e98174b212fcc99086c553fd4fdd8ff8d0e30502207965dbb38e7d8a2ed18cf159cbc4e952f4a993e8e18f0ccb29da3e1be042e36401ffffffff0200ca9a3b000000001976a9143c97e71596a3f70eb90b95be3686ce807adc915088ac00286bee000000001976a914878e2432c4b94866e95237e8267d0b49c32b83ee88ac00000000\n",
    "{\n",
    "    \"txid\" : \"e9f2c73989edf23fbb90afc5e50288c19debfd3ace5f076e8179ff7071e4a61f\",\n",
    "    \"version\" : 1,\n",
    "    \"locktime\" : 0,\n",
    "    \"vin\" : [\n",
    "        {\n",
    "            \"txid\" : \"cabca0b131823a8a4be3c18fbe7c7d9d3e2f17fe8ad245d0c178821222a6672e\",\n",
    "            \"vout\" : 0,\n",
    "            \"scriptSig\" : {\n",
    "                \"asm\" : \"304402203aa364f2ef5cd4579430726559e98174b212fcc99086c553fd4fdd8ff8d0e30502207965dbb38e7d8a2ed18cf159cbc4e952f4a993e8e18f0ccb29da3e1be042e36401\",\n",
    "                \"hex\" : \"47304402203aa364f2ef5cd4579430726559e98174b212fcc99086c553fd4fdd8ff8d0e30502207965dbb38e7d8a2ed18cf159cbc4e952f4a993e8e18f0ccb29da3e1be042e36401\"\n",
    "            },\n",
    "            \"sequence\" : 4294967295\n",
    "        }\n",
    "    ],\n",
    "    \"vout\" : [\n",
    "        {\n",
    "            \"value\" : 10.00000000,\n",
    "            \"n\" : 0,\n",
    "            \"scriptPubKey\" : {\n",
    "                \"asm\" : \"OP_DUP OP_HASH160 3c97e71596a3f70eb90b95be3686ce807adc9150 OP_EQUALVERIFY OP_CHECKSIG\",\n",
    "                \"hex\" : \"76a9143c97e71596a3f70eb90b95be3686ce807adc915088ac\",\n",
    "                \"reqSigs\" : 1,\n",
    "                \"type\" : \"pubkeyhash\",\n",
    "                \"addresses\" : [\n",
    "                    \"mm3LowreK1dFta9io3oGpQtLJfBrVE7jB8\"\n",
    "                ]\n",
    "            }\n",
    "        },\n",
    "        {\n",
    "            \"value\" : 40.00000000,\n",
    "            \"n\" : 1,\n",
    "            \"scriptPubKey\" : {\n",
    "                \"asm\" : \"OP_DUP OP_HASH160 878e2432c4b94866e95237e8267d0b49c32b83ee OP_EQUALVERIFY OP_CHECKSIG\",\n",
    "                \"hex\" : \"76a914878e2432c4b94866e95237e8267d0b49c32b83ee88ac\",\n",
    "                \"reqSigs\" : 1,\n",
    "                \"type\" : \"pubkeyhash\",\n",
    "                \"addresses\" : [\n",
    "                    \"mssho7FyfiUpxZzrDUoQzZuMjK5SqrZ48F\"\n",
    "                ]\n",
    "            }\n",
    "        }\n",
    "    ]\n",
    "}\n"
   ]
  }
 ],
 "metadata": {
  "kernelspec": {
   "display_name": "Python 3",
   "language": "python",
   "name": "python3"
  },
  "language_info": {
   "codemirror_mode": {
    "name": "ipython",
    "version": 3
   },
   "file_extension": ".py",
   "mimetype": "text/x-python",
   "name": "python",
   "nbconvert_exporter": "python",
   "pygments_lexer": "ipython3",
   "version": "3.5.1"
  }
 },
 "nbformat": 4,
 "nbformat_minor": 0
}
