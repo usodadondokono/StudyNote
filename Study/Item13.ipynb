{
 "cells": [
  {
   "cell_type": "markdown",
   "metadata": {},
   "source": [
    "# Take advantage of each block in try/except/else/finally\n",
    "\n",
    "Pythonでの例外ハンドリングにおける実施したい動作は4つに大別できる。\n",
    "\n",
    "それらはtry, except, else, finallyブロックで実施できる\n",
    "\n",
    "これらはそれぞれ固有の使いかたがあり、異なる複数の使い方が役立つ(Item51)"
   ]
  },
  {
   "cell_type": "markdown",
   "metadata": {},
   "source": [
    "## finally blocks\n",
    "\n",
    "try/finallyの組み合わせは例外を投げたい時に使えるが、\n",
    "例外が起きた時の後処理コードを走らせたい時にも使える。\n",
    "\n",
    "よくあるのは、ファイルハンドラをきちんと閉じたい時。(Item43も参照)"
   ]
  },
  {
   "cell_type": "code",
   "execution_count": 4,
   "metadata": {
    "collapsed": false
   },
   "outputs": [
    {
     "ename": "IOError",
     "evalue": "[Errno 2] No such file or directory: '/tmp/random_data.txt'",
     "output_type": "error",
     "traceback": [
      "\u001b[0;31m---------------------------------------------------------------------------\u001b[0m",
      "\u001b[0;31mIOError\u001b[0m                                   Traceback (most recent call last)",
      "\u001b[0;32m<ipython-input-4-0fc13b35a457>\u001b[0m in \u001b[0;36m<module>\u001b[0;34m()\u001b[0m\n\u001b[0;32m----> 1\u001b[0;31m \u001b[0mhandle\u001b[0m \u001b[0;34m=\u001b[0m \u001b[0mopen\u001b[0m\u001b[0;34m(\u001b[0m\u001b[0;34m'/tmp/random_data.txt'\u001b[0m\u001b[0;34m)\u001b[0m  \u001b[0;31m# raise IOError\u001b[0m\u001b[0;34m\u001b[0m\u001b[0m\n\u001b[0m\u001b[1;32m      2\u001b[0m \u001b[0;32mtry\u001b[0m\u001b[0;34m:\u001b[0m\u001b[0;34m\u001b[0m\u001b[0m\n\u001b[1;32m      3\u001b[0m     \u001b[0mdata\u001b[0m \u001b[0;34m=\u001b[0m \u001b[0mhandle\u001b[0m\u001b[0;34m.\u001b[0m\u001b[0mread\u001b[0m\u001b[0;34m(\u001b[0m\u001b[0;34m)\u001b[0m  \u001b[0;31m# raise UnicodeDecodeError\u001b[0m\u001b[0;34m\u001b[0m\u001b[0m\n\u001b[1;32m      4\u001b[0m \u001b[0;32mfinally\u001b[0m\u001b[0;34m:\u001b[0m\u001b[0;34m\u001b[0m\u001b[0m\n\u001b[1;32m      5\u001b[0m     \u001b[0;31m# tryの後に必ず実行される\u001b[0m\u001b[0;34m\u001b[0m\u001b[0;34m\u001b[0m\u001b[0m\n",
      "\u001b[0;31mIOError\u001b[0m: [Errno 2] No such file or directory: '/tmp/random_data.txt'"
     ]
    }
   ],
   "source": [
    "handle = open('/tmp/random_data.txt')  # raise IOError\n",
    "try:\n",
    "    data = handle.read()  # raise UnicodeDecodeError\n",
    "finally:\n",
    "    # tryの後に必ず実行される\n",
    "    handle.close() "
   ]
  },
  {
   "cell_type": "code",
   "execution_count": 9,
   "metadata": {
    "collapsed": false
   },
   "outputs": [
    {
     "ename": "NameError",
     "evalue": "name 'handle' is not defined",
     "output_type": "error",
     "traceback": [
      "\u001b[0;31m---------------------------------------------------------------------------\u001b[0m",
      "\u001b[0;31mNameError\u001b[0m                                 Traceback (most recent call last)",
      "\u001b[0;32m<ipython-input-9-edcdb0afa471>\u001b[0m in \u001b[0;36m<module>\u001b[0;34m()\u001b[0m\n\u001b[1;32m      4\u001b[0m \u001b[0;32mfinally\u001b[0m\u001b[0;34m:\u001b[0m\u001b[0;34m\u001b[0m\u001b[0m\n\u001b[1;32m      5\u001b[0m     \u001b[0;31m# tryの後に必ず実行される\u001b[0m\u001b[0;34m\u001b[0m\u001b[0;34m\u001b[0m\u001b[0m\n\u001b[0;32m----> 6\u001b[0;31m     \u001b[0mhandle\u001b[0m\u001b[0;34m.\u001b[0m\u001b[0mclose\u001b[0m\u001b[0;34m(\u001b[0m\u001b[0;34m)\u001b[0m\u001b[0;34m\u001b[0m\u001b[0m\n\u001b[0m",
      "\u001b[0;31mNameError\u001b[0m: name 'handle' is not defined"
     ]
    }
   ],
   "source": [
    "try:\n",
    "    handle = open('/tmp/random_data.txt')  # raise IOError\n",
    "    data = handle.read()  # raise UnicodeDecodeError\n",
    "finally:\n",
    "    # tryの後に必ず実行される\n",
    "    handle.close() "
   ]
  },
  {
   "cell_type": "markdown",
   "metadata": {},
   "source": [
    "readを使うとなんらかの例外が起こるが、\n",
    "finallyブロックでhandleのcloseメソッドが保証される。\n",
    "\n",
    "tryブロックの前にopenを呼ばないといけない\n",
    "(openの時に発生する例外ではfinallyブロックは呼ばれて欲しくない)"
   ]
  },
  {
   "cell_type": "markdown",
   "metadata": {},
   "source": [
    "## else blocks\n",
    "\n",
    "try/except/elseの組み合わせは例外捕捉を分かりやすくする。\n",
    "\n",
    "tryで例外が出ない時、elseブロックが実行される。\n",
    "elseブロックはtryブロックのコード量を減らし、可読性を向上させる。\n",
    "\n",
    "例えば、JSONのDictionaryデータを読み込み含まれるkeyを返したい時。"
   ]
  },
  {
   "cell_type": "code",
   "execution_count": 6,
   "metadata": {
    "collapsed": false
   },
   "outputs": [
    {
     "ename": "SyntaxError",
     "evalue": "invalid syntax (<ipython-input-6-4ab544558598>, line 6)",
     "output_type": "error",
     "traceback": [
      "\u001b[0;36m  File \u001b[0;32m\"<ipython-input-6-4ab544558598>\"\u001b[0;36m, line \u001b[0;32m6\u001b[0m\n\u001b[0;31m    rause KeyError from e\u001b[0m\n\u001b[0m                 ^\u001b[0m\n\u001b[0;31mSyntaxError\u001b[0m\u001b[0;31m:\u001b[0m invalid syntax\n"
     ]
    }
   ],
   "source": [
    "import json \n",
    "def load_json_key(data, key):\n",
    "    try:\n",
    "        result_dict = json.loads(data)\n",
    "    except ValueError as e:\n",
    "        rause KeyError from e\n",
    "    else:\n",
    "        return result_dict[key]"
   ]
  },
  {
   "cell_type": "markdown",
   "metadata": {},
   "source": [
    "適切なJSONデータでない時、json.dataのデコードはValueErrorの例外を投げる。\n",
    "例外はexceptブロックで捕捉されハンドルされる。\n",
    "\n",
    "デコードが成功した場合、elseブロックのkey探索が実施される。\n",
    "その際に例外が発生した場合、tryブロックの外のため、callerに伝わる。\n",
    "\n",
    "elseはtry/exceptの後に続くことが見た目的に見分けることができ、\n",
    "例外時の流れがわかりやすくなる。"
   ]
  },
  {
   "cell_type": "markdown",
   "metadata": {},
   "source": [
    "## 全部入り\n",
    "\n"
   ]
  },
  {
   "cell_type": "code",
   "execution_count": 8,
   "metadata": {
    "collapsed": true
   },
   "outputs": [],
   "source": [
    "UNDEFINED = object()\n",
    "\n",
    "def divide_json(path):\n",
    "    handle = open(path, 'r+')  # raise IOError\n",
    "    try:\n",
    "        data = handle.read()   # raise UnicodeDecodeError\n",
    "        op = json.loads(data)  # raise ValueError\n",
    "        value = (\n",
    "            op['numerator'] /\n",
    "            op['denominator']) # raise ZeroDivisionError\n",
    "    except ZeroDivisionError as e:\n",
    "        return UNDEFINED\n",
    "    else:\n",
    "        op['result'] = value\n",
    "        result = json.dumps(op)\n",
    "        handle.seek(0)\n",
    "        handle.write(result)  # raise IOError\n",
    "        return value\n",
    "    finally:\n",
    "        # 常に実行される\n",
    "        handle.close()"
   ]
  },
  {
   "cell_type": "markdown",
   "metadata": {},
   "source": [
    "## Things to remember\n",
    "\n",
    "* 例外が出るかにかかわらず、try/finally文ではコードを綺麗にしよう\n",
    "* elseブロックはtryブロックのコード量を最小化するのに役立ち、見た目にも区分けできる\n",
    "* elseブロックは成功したtryブロック後やfinallyブロックのクリーンアップ前の追加動作に使われる"
   ]
  }
 ],
 "metadata": {
  "kernelspec": {
   "display_name": "Python 2",
   "language": "python",
   "name": "python2"
  },
  "language_info": {
   "codemirror_mode": {
    "name": "ipython",
    "version": 2
   },
   "file_extension": ".py",
   "mimetype": "text/x-python",
   "name": "python",
   "nbconvert_exporter": "python",
   "pygments_lexer": "ipython2",
   "version": "2.7.11"
  }
 },
 "nbformat": 4,
 "nbformat_minor": 0
}
