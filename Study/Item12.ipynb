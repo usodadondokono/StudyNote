{
 "cells": [
  {
   "cell_type": "markdown",
   "metadata": {},
   "source": [
    "# Avoid else Blocks After for and while Loops\n",
    "\n",
    "Pythonループでは他に無い特徴がある...\n",
    "\n",
    "ループの後にelseブロックを置ける"
   ]
  },
  {
   "cell_type": "code",
   "execution_count": 2,
   "metadata": {
    "collapsed": false
   },
   "outputs": [
    {
     "name": "stdout",
     "output_type": "stream",
     "text": [
      "Loop 0\n",
      "Loop 1\n",
      "Loop 2\n",
      "Else block\n"
     ]
    }
   ],
   "source": [
    "for i in range(3):\n",
    "    print('Loop %d' % i)\n",
    "else:\n",
    "    print('Else block')"
   ]
  },
  {
   "cell_type": "markdown",
   "metadata": {},
   "source": [
    "ループが終わるとすぐにelseブロックが走る。\n",
    "なぜelseなのかandでよくね？\n",
    "\n",
    "if/elseステートメントなら、その前のブロックが実行されないときに\n",
    "elseブロックが実行される。"
   ]
  },
  {
   "cell_type": "markdown",
   "metadata": {},
   "source": [
    "これはtry/except/elseからのelseは同様なパターンになる。\n",
    "(Item13)\n",
    "\n",
    "この前のブロックが失敗しなければここを実行する。\n",
    "(これはtry/finallyでは直感的)"
   ]
  },
  {
   "cell_type": "markdown",
   "metadata": {},
   "source": [
    "## ややこしいケース\n",
    "\n",
    "このことはPython初心者に混乱をもたらす。\n",
    "\n",
    "実際、たとえばbreak文ではelseブロックまで飛ばす。\n"
   ]
  },
  {
   "cell_type": "code",
   "execution_count": 5,
   "metadata": {
    "collapsed": false
   },
   "outputs": [
    {
     "name": "stdout",
     "output_type": "stream",
     "text": [
      "Loop 0\n",
      "Loop 1\n"
     ]
    }
   ],
   "source": [
    "for i in range(3):\n",
    "    print('Loop %d' % i)\n",
    "    if i == 1:\n",
    "        break\n",
    "else:\n",
    "    # ここはスキップされる\n",
    "    print('Else block!')"
   ]
  },
  {
   "cell_type": "code",
   "execution_count": 7,
   "metadata": {
    "collapsed": false
   },
   "outputs": [
    {
     "name": "stdout",
     "output_type": "stream",
     "text": [
      "While else block!\n"
     ]
    }
   ],
   "source": [
    "for x in []:\n",
    "    print('Never runs')\n",
    "else:\n",
    "    # ここは通るよ\n",
    "    print('While else block!')"
   ]
  },
  {
   "cell_type": "code",
   "execution_count": 8,
   "metadata": {
    "collapsed": false
   },
   "outputs": [
    {
     "name": "stdout",
     "output_type": "stream",
     "text": [
      "While else block!\n"
     ]
    }
   ],
   "source": [
    "while False:\n",
    "    print('Never runs')\n",
    "else:\n",
    "    # ここも通るよ\n",
    "    print('While else block!')"
   ]
  },
  {
   "cell_type": "markdown",
   "metadata": {},
   "source": [
    "### この性質を使いたいケース\n",
    "\n",
    "この性質はループで何か探索するときに便利な時もある。\n",
    "\n",
    "例として、2つの数値が「互いに素」か探したいケース。\n",
    "(全ケースを試して、最後まで来たら何か返したい場合)"
   ]
  },
  {
   "cell_type": "code",
   "execution_count": 12,
   "metadata": {
    "collapsed": false
   },
   "outputs": [
    {
     "name": "stdout",
     "output_type": "stream",
     "text": [
      "('Testing', 2)\n",
      "('Testing', 3)\n",
      "('Testing', 4)\n",
      "Coprime\n"
     ]
    }
   ],
   "source": [
    "a = 4\n",
    "b = 9\n",
    "for i in range(2, min(a, b) + 1):\n",
    "    print('Testing', i)\n",
    "    if a % i == 0 and b % i == 0:\n",
    "        print('Not coprime')\n",
    "        break\n",
    "else:\n",
    "    print('Coprime')"
   ]
  },
  {
   "cell_type": "markdown",
   "metadata": {},
   "source": [
    "実際はこのように書きたくないので、代わりにへルパー関数を用意してやるべき。\n",
    "\n",
    "## ヘルパー関数で代用\n",
    "\n",
    "* その1\n",
    "\n",
    "見つけたら早めにreturn、最後までいった場合はデフォルト値をreturn。"
   ]
  },
  {
   "cell_type": "code",
   "execution_count": 10,
   "metadata": {
    "collapsed": false
   },
   "outputs": [],
   "source": [
    "def coprime(a, b):\n",
    "    for i in range(2, min(a, b) + 1):\n",
    "        if a % i == 0 and b % i == 0:\n",
    "            return False\n",
    "    return True"
   ]
  },
  {
   "cell_type": "markdown",
   "metadata": {},
   "source": [
    "* その2\n",
    "\n",
    "フラグを立てて、見つかればbreak。"
   ]
  },
  {
   "cell_type": "code",
   "execution_count": 13,
   "metadata": {
    "collapsed": true
   },
   "outputs": [],
   "source": [
    "def coprime2(a, b):\n",
    "    is_coprime = True\n",
    "    for i in range(2, min(a, b) + 1):\n",
    "        if a % i == 0 and b % i == 0:\n",
    "            is_coprime = False\n",
    "            break\n",
    "    return is_coprime"
   ]
  },
  {
   "cell_type": "markdown",
   "metadata": {},
   "source": [
    "上記のケースの方がコードに慣れ親しんでいないリーダーには分かり良い。\n",
    "\n",
    "elseブロックは将来的に自分を含めた他の人に不便を生じさせるので、\n",
    "loopの後のelseは避けよう。"
   ]
  },
  {
   "cell_type": "markdown",
   "metadata": {},
   "source": [
    "## Things to remember\n",
    "\n",
    "* Pythonはelseブロックについて特殊な文法を持つ\n",
    "* loop内でbreak文に遭わなければloopの後にelseブロックが実行される\n",
    "* loopの後にelseを付けるのは直感的でなく混乱させるので避けよう"
   ]
  }
 ],
 "metadata": {
  "kernelspec": {
   "display_name": "Python 2",
   "language": "python",
   "name": "python2"
  },
  "language_info": {
   "codemirror_mode": {
    "name": "ipython",
    "version": 2
   },
   "file_extension": ".py",
   "mimetype": "text/x-python",
   "name": "python",
   "nbconvert_exporter": "python",
   "pygments_lexer": "ipython2",
   "version": "2.7.11"
  }
 },
 "nbformat": 4,
 "nbformat_minor": 0
}
